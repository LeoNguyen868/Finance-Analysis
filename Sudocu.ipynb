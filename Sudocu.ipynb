{
 "cells": [
  {
   "cell_type": "code",
   "execution_count": 2,
   "id": "b5dc1651",
   "metadata": {},
   "outputs": [],
   "source": [
    "def thu(j,k,m):\n",
    "    l=list()\n",
    "    for i in range(0+j,3+j):\n",
    "        for n in range(0+k,3+k):\n",
    "            l.append(m[i][n])\n",
    "    return l\n",
    "\n",
    "def vuong(m):\n",
    "    l=list()\n",
    "    for i in range(0,7,3):\n",
    "        for x in range(0,7,3):\n",
    "            l.append(thu(i,x,m))\n",
    "    return l\n",
    "\n",
    "def cot(m):\n",
    "    l=list()\n",
    "    for i in range(0,9):\n",
    "        lc=list()\n",
    "        for j in range(0,9):\n",
    "            lc.append(m[j][i])\n",
    "        l.append(lc) \n",
    "    return l\n",
    "\n",
    "def sq(m):\n",
    "    l=list()\n",
    "    for i in vuong(m):\n",
    "        lc=list()\n",
    "        for n in range(1,10):\n",
    "            if n in i:\n",
    "                lc.append(n)\n",
    "        l.append(lc)\n",
    "    return l\n",
    "def row(m):\n",
    "    l=list()\n",
    "    for i in range(0,9):\n",
    "        lc=list()\n",
    "        for j in range(1,10):\n",
    "            if j in m[i]:\n",
    "                lc.append(j)\n",
    "        l.append(lc)\n",
    "    return l\n",
    "\n",
    "def cl(m):\n",
    "    l=list()\n",
    "    for i in range(0,9):\n",
    "        lc=list()\n",
    "        for j in range(1,10):\n",
    "            if j in cot(m)[i]:\n",
    "                lc.append(j)\n",
    "        l.append(lc)\n",
    "    return l\n",
    "\n",
    "def c_sq(n,m):\n",
    "    l=list()\n",
    "    for i in range(1,10):\n",
    "        if n not in sq(m)[i-1]:\n",
    "            l.append(i)\n",
    "    return l\n",
    "def c_rw(n,m):\n",
    "    l=list()\n",
    "    for i in range(1,10):\n",
    "        if n not in row(m)[i-1]:\n",
    "            l.append(i)\n",
    "    return l\n",
    "def c_cl(n,m):\n",
    "    l=list()\n",
    "    for i in range(1,10):\n",
    "        if n not in cl(m)[i-1]:\n",
    "            l.append(i)\n",
    "    return l"
   ]
  },
  {
   "cell_type": "code",
   "execution_count": 8,
   "id": "ee41950d",
   "metadata": {},
   "outputs": [
    {
     "data": {
      "text/plain": [
       "[[0, 0, 0, 8, 0, 0, 0, 2, 0],\n",
       " [4, 0, 0, 0, 7, 0, 5, 0, 0],\n",
       " [0, 9, 8, 0, 0, 5, 1, 0, 0],\n",
       " [0, 0, 4, 7, 0, 1, 0, 0, 2],\n",
       " [0, 2, 0, 0, 3, 0, 0, 1, 0],\n",
       " [5, 0, 0, 6, 0, 2, 3, 0, 0],\n",
       " [0, 0, 3, 9, 0, 0, 8, 5, 0],\n",
       " [0, 0, 2, 0, 8, 0, 0, 0, 1],\n",
       " [0, 4, 0, 0, 0, 3, 0, 0, 0]]"
      ]
     },
     "execution_count": 8,
     "metadata": {},
     "output_type": "execute_result"
    }
   ],
   "source": [
    "m=[[0,0,0,8,0,0,0,2,0],\n",
    "   [4,0,0,0,7,0,5,0,0],[0,9,8,0,0,5,1,0,0],[0,0,4,7,0,1,0,0,2],[0,2,0,0,3,0,0,1,0],[5,0,0,6,0,2,3,0,0],[0,0,3,9,0,0,8,5,0],[0,0,2,0,8,0,0,0,1],[0,4,0,0,0,3,0,0,0]]\n",
    "m"
   ]
  },
  {
   "cell_type": "code",
   "execution_count": 9,
   "id": "8961c285",
   "metadata": {},
   "outputs": [
    {
     "name": "stdout",
     "output_type": "stream",
     "text": [
      "1\n",
      "[1, 2, 4, 7, 8]\n",
      "[1, 2, 6, 7, 9]\n",
      "[1, 2, 3, 4, 5]\n",
      "2\n",
      "[1, 2, 8, 9]\n",
      "[2, 3, 7, 9]\n",
      "[1, 4, 5, 7]\n",
      "3\n",
      "[1, 2, 3, 4, 9]\n",
      "[1, 2, 3, 4, 8]\n",
      "[1, 2, 4, 8, 9]\n",
      "4\n",
      "[2, 3, 5, 6, 8, 9]\n",
      "[1, 3, 5, 6, 7, 8]\n",
      "[4, 5, 6, 7, 8, 9]\n",
      "5\n",
      "[1, 5, 6, 7, 8]\n",
      "[1, 4, 5, 8, 9]\n",
      "[2, 3, 4, 5, 9]\n",
      "6\n",
      "[1, 2, 3, 4, 6, 7, 8, 9]\n",
      "[1, 2, 3, 4, 5, 7, 8, 9]\n",
      "[1, 2, 3, 5, 6, 7, 8, 9]\n",
      "7\n",
      "[1, 3, 4, 6, 7, 8, 9]\n",
      "[1, 3, 5, 6, 7, 8, 9]\n",
      "[1, 2, 3, 6, 7, 8, 9]\n",
      "8\n",
      "[3, 4, 5, 6, 7]\n",
      "[2, 4, 5, 6, 9]\n",
      "[1, 2, 6, 8, 9]\n",
      "9\n",
      "[2, 3, 4, 5, 6, 7, 9]\n",
      "[1, 2, 4, 5, 6, 8, 9]\n",
      "[1, 3, 5, 6, 7, 8, 9]\n"
     ]
    }
   ],
   "source": [
    "for i in range(1,10):\n",
    "    print(i)\n",
    "    print(c_sq(i,m))\n",
    "    print(c_rw(i,m))\n",
    "    print(c_cl(i,m))"
   ]
  },
  {
   "cell_type": "code",
   "execution_count": null,
   "id": "64f56935",
   "metadata": {},
   "outputs": [],
   "source": [
    "def check_vitri(m,i,j):\n",
    "        "
   ]
  },
  {
   "cell_type": "code",
   "execution_count": null,
   "id": "60ae5e18",
   "metadata": {},
   "outputs": [],
   "source": []
  }
 ],
 "metadata": {
  "kernelspec": {
   "display_name": "Python 3 (ipykernel)",
   "language": "python",
   "name": "python3"
  },
  "language_info": {
   "codemirror_mode": {
    "name": "ipython",
    "version": 3
   },
   "file_extension": ".py",
   "mimetype": "text/x-python",
   "name": "python",
   "nbconvert_exporter": "python",
   "pygments_lexer": "ipython3",
   "version": "3.10.8"
  }
 },
 "nbformat": 4,
 "nbformat_minor": 5
}
